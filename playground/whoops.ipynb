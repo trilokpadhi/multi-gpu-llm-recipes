{
 "cells": [
  {
   "cell_type": "code",
   "execution_count": 1,
   "metadata": {},
   "outputs": [
    {
     "name": "stderr",
     "output_type": "stream",
     "text": [
      "/opt/conda/envs/llava/lib/python3.10/site-packages/tqdm/auto.py:21: TqdmWarning: IProgress not found. Please update jupyter and ipywidgets. See https://ipywidgets.readthedocs.io/en/stable/user_install.html\n",
      "  from .autonotebook import tqdm as notebook_tqdm\n"
     ]
    }
   ],
   "source": [
    "from datasets import load_dataset\n",
    "# dataset_id = \"nlphuji/whoops\"\n",
    "WHOOPS_ACCESS_TOKEN = \"XXXXXXX\""
   ]
  },
  {
   "cell_type": "code",
   "execution_count": 2,
   "metadata": {},
   "outputs": [
    {
     "name": "stderr",
     "output_type": "stream",
     "text": [
      "Downloading builder script: 100%|██████████| 3.20k/3.20k [00:00<00:00, 61.4kB/s]\n",
      "Downloading readme: 100%|██████████| 7.82k/7.82k [00:00<00:00, 131kB/s]\n",
      "Downloading data: 100%|██████████| 974k/974k [00:00<00:00, 6.77MB/s]\n",
      "Downloading data: 100%|██████████| 688M/688M [00:14<00:00, 46.6MB/s] \n",
      "Generating test split: 500 examples [00:00, 4035.26 examples/s]\n"
     ]
    }
   ],
   "source": [
    "dataset = load_dataset('nlphuji/whoops')"
   ]
  },
  {
   "cell_type": "code",
   "execution_count": null,
   "metadata": {},
   "outputs": [],
   "source": [
    "dataset"
   ]
  },
  {
   "cell_type": "code",
   "execution_count": null,
   "metadata": {},
   "outputs": [],
   "source": []
  }
 ],
 "metadata": {
  "kernelspec": {
   "display_name": "llava",
   "language": "python",
   "name": "python3"
  },
  "language_info": {
   "codemirror_mode": {
    "name": "ipython",
    "version": 3
   },
   "file_extension": ".py",
   "mimetype": "text/x-python",
   "name": "python",
   "nbconvert_exporter": "python",
   "pygments_lexer": "ipython3",
   "version": "3.10.14"
  }
 },
 "nbformat": 4,
 "nbformat_minor": 2
}
